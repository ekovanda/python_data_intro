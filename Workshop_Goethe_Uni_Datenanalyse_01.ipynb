{
  "nbformat": 4,
  "nbformat_minor": 0,
  "metadata": {
    "colab": {
      "provenance": [],
      "private_outputs": true
    },
    "kernelspec": {
      "name": "python3",
      "display_name": "Python 3"
    },
    "language_info": {
      "name": "python"
    }
  },
  "cells": [
    {
      "cell_type": "markdown",
      "source": [
        "# Datenanalyse in Python für Einsteiger"
      ],
      "metadata": {
        "id": "egrB-ODumyLT"
      }
    },
    {
      "cell_type": "markdown",
      "source": [
        "## Die Absoluten Basics\n",
        "Ich habe versucht, Anweisungen so detailliert wie möglich für absolute Anfänger bereitzustellen. Wenn du bereits mit Python & Jupyter Notebooks vertraut bist, kannst du diesen Abschnitt gerne schneller durchgehen oder ihn ganz überspringen.\n",
        "\n",
        "\n",
        "\n",
        "\n",
        "\n",
        "\n",
        "\n"
      ],
      "metadata": {
        "id": "zByYetlenHye"
      }
    },
    {
      "cell_type": "markdown",
      "source": [
        "### Layout\n",
        "Dieses Tutorial ist in einem sogenannten Jupyter-Notebook (Dateityp .ipynb) angelegt. Es enthält zwei Arten von \"Zellen\":\n",
        "- Markdown-Zellen (wie diese hier) enthalten Text und Anweisungen\n",
        "- Code-Zellen (siehe unten) enthalten... nun ja... Code. Du kannst sie ausführen, indem du auf ein kleines Dreieck klickst oder in sie hinein klickst und SHIFT+ENTER oder CTRL+ENTER drückst.\n",
        "\n",
        "Was schön an Jupyter Notebooks ist, ist dass Markdown-Zellen es uns ermöglichen, Code einfach zu erklären, aber noch wichtiger ist, dass jede Code-Zelle individuell ausgeführt werden kann. Auf diese Weise kannst du deinen Code Stück für Stück schreiben und testen, deine Ausgabe (oder Fehlermeldung) sofort sehen. Das ermöglicht uns, einfach zu debuggen und zu lernen.\n",
        "\n",
        "**Probiere es aus, indem du den Codeblock unten ausführst.**\n",
        "\n",
        "\n",
        "\n",
        "\n"
      ],
      "metadata": {
        "id": "gpe-8p2WnMCU"
      }
    },
    {
      "cell_type": "code",
      "execution_count": null,
      "metadata": {
        "id": "MAiy1Uulmw31"
      },
      "outputs": [],
      "source": [
        "print(\"Hello World!\")"
      ]
    },
    {
      "cell_type": "markdown",
      "source": [
        "Du wirst die gedruckte Ausgabe unterhalb der Code-Zelle sehen.\n",
        "\n",
        "**Verwende die leere Zelle unten, um die print-Funktion selbst auszuprobieren.**\n"
      ],
      "metadata": {
        "id": "KVFDrGw8nQfz"
      }
    },
    {
      "cell_type": "markdown",
      "source": [
        "### Variablen definieren\n",
        "\n",
        "Python - und alle anderen Programmiersprachen - verlassen sich auf Variablen oder \"Objekte\" für Berechnungen. Vereinfacht ausgedrückt hat jede Variable einen *Wert* und einen *Typ*. In Python wird der Typ implizit abgeleitet, was es zu einer zugänglicheren Sprache für Anfänger macht, da du den Datentyp jedes Objekts nicht explizit angeben musst.\n",
        "\n",
        "Im Folgenden definieren wir zwei Variablen `a` und `b`.\n",
        "\n",
        "`a` ist eine *ganze Zahl* mit dem Wert 5 und `b` ist ein *String* (=Text) mit dem Wert \"sieben\".\n",
        "\n",
        "**Führe die untenstehenden Zellen aus**\n"
      ],
      "metadata": {
        "id": "xtbuBnDgnTKF"
      }
    },
    {
      "cell_type": "code",
      "source": [
        "a = 5\n",
        "b = \"seven\""
      ],
      "metadata": {
        "id": "QFQFNLx7nRcD"
      },
      "execution_count": null,
      "outputs": []
    },
    {
      "cell_type": "markdown",
      "source": [
        "### Variablen abrufen\n",
        "\n",
        "Wir haben nun die Werte 5 und \"sieben\" in die Variablen `a` und `b` gespeichert. Diese gespeicherten Variablen können wir abrufen, indem wir sie *aufrufen*.\n",
        "\n",
        "**Führe die Zelle unten aus, um `a` aufzurufen und dessen Wert auf dem Bildschirm anzuzeigen.**\n"
      ],
      "metadata": {
        "id": "qITc4j63nchC"
      }
    },
    {
      "cell_type": "code",
      "source": [
        "a"
      ],
      "metadata": {
        "id": "TSP5CEpnncQo"
      },
      "execution_count": null,
      "outputs": []
    },
    {
      "cell_type": "markdown",
      "source": [
        "Jetzt möchten wir auch die Variable `b` aufrufen.\n",
        "\n",
        "**Erstelle eine neue Code-Zelle direkt unter dieser und rufe die Variable `b` auf.**\n",
        "\n",
        "Du kannst neue Zellen erstellen, indem du auf die Plus-Schaltfläche auf dem Bildschirm klickst.\n"
      ],
      "metadata": {
        "id": "kuG7Kux0nerV"
      }
    },
    {
      "cell_type": "markdown",
      "source": [
        "Wir können neue Variablen basierend auf bereits zuvor definierten Variablen definieren. Zum Beispiel können wir c = a + 10 definieren."
      ],
      "metadata": {
        "id": "YyGiYQZcngm9"
      }
    },
    {
      "cell_type": "code",
      "source": [
        "c = a + 10\n",
        "c"
      ],
      "metadata": {
        "id": "BzoPvq2Lni9y"
      },
      "execution_count": null,
      "outputs": []
    },
    {
      "cell_type": "markdown",
      "source": [
        "Gut gemacht! Du hast dich nun mit den Grundlagen der Jupyter-Benutzeroberfläche vertraut gemacht und weißt, wie man Variablen definiert."
      ],
      "metadata": {
        "id": "j_KmZ0b2nhyr"
      }
    },
    {
      "cell_type": "markdown",
      "source": [
        "### Umgang mit Fehlern\n",
        "Python ist vielleicht eine verzeihende Programmiersprache, aber es ist dennoch eine Programmiersprache. Das bedeutet, wenn du seine Regeln nicht befolgst, gibt es einen Fehler zurück und führt deinen Code nicht aus.\n",
        "\n",
        "Das kann knifflig sein, wenn man anfängt, denn schon ein einziger Tippfehler kann dazu führen, dass dein Code nicht funktioniert. Glücklicherweise gibt Python einige Hinweise darauf, warum dein Code fehlgeschlagen ist. Also, wenn du auf einen Fehler stößt, versuche diese Schritte zu befolgen:\n",
        "- Entspanne dich. Fehler passieren die ganze Zeit, sogar den Besten von uns.\n",
        "- Lies die Fehlermeldung (besonders der Anfang und das Ende der Meldung liefern hilfreiche Hinweise).\n",
        "- Versuche, die Ursache des Fehlers zu lokalisieren\n",
        "  - Manchmal sagt dir die Fehlermeldung vielleicht etwas\n",
        "  - Manchmal musst du einfach genau hinsehen\n",
        "  - Manchmal kann es hilfreich sein, eine komplexere Abfolge von Schritten auseinanderzunehmen, um genau zu sehen, wo dein Code fehlschlägt\n",
        "- Wenn du den Code nicht selbst reparieren kannst, dann ist Stackoverflow.com dein Freund. Gib deinen Fehler bei Google ein und schau, welche Ratschläge du auf Stackoverflow bekommst. Jeder macht das.\n",
        "- In letzter Zeit ist auch ChatGPT ein ausgezeichnetes Debugging-Werkzeug geworden. Du kannst Code einfügen, es bitten zu erklären, was jede Zeile macht, oder es deinen Code automatisch korrigieren lassen.\n",
        "  - Aber beachte, während es großartig ist, Code mit ChatGPT zu schreiben, stelle sicher, dass du nicht einfach nur kopierst und einfügst, sondern versuche tatsächlich zu verstehen, was den Code funktionieren lässt und was nicht.\n",
        "- Wenn alles andere fehlschlägt, versuche, eine andere Person um Hilfe zu bitten. Manchmal reicht schon ein frischer Blick.\n",
        "\n",
        "**Jetzt sieh nach, was mit dem folgenden Code falsch ist und behebe es.**\n",
        "\n",
        "\n"
      ],
      "metadata": {
        "id": "OO9IdlHjntbw"
      }
    },
    {
      "cell_type": "code",
      "source": [
        "print(\"This is a really important message. Unfortunately, it won't execute.)"
      ],
      "metadata": {
        "id": "owSxOjuXnwq8"
      },
      "execution_count": null,
      "outputs": []
    },
    {
      "cell_type": "markdown",
      "source": [
        "Lass uns ein etwas kniffligeres Beispiel versuchen. Erinnerst du dich an deine Variablen `a` und `b`, die du oben definiert hast?\n",
        "\n",
        "**Rufe sie erneut auf, um dich an ihre Werte zu erinnern.**\n"
      ],
      "metadata": {
        "id": "m5q_L6C6nvyd"
      }
    },
    {
      "cell_type": "code",
      "source": [],
      "metadata": {
        "id": "izozBEpjnzI7"
      },
      "execution_count": null,
      "outputs": []
    },
    {
      "cell_type": "markdown",
      "source": [
        "**Definiere jetzt die Variable `d = a + b`.**\n",
        "\n",
        "Warum wird sie nicht ausgeführt? Was kannst du tun, um das Problem zu beheben?\n"
      ],
      "metadata": {
        "id": "w8qkJqsCnze1"
      }
    },
    {
      "cell_type": "code",
      "source": [],
      "metadata": {
        "id": "UzLnSLCFn2QY"
      },
      "execution_count": null,
      "outputs": []
    },
    {
      "cell_type": "markdown",
      "source": [
        "### Verwenden von Code-Kommentaren\n",
        "Manchmal ist es hilfreich, kleine Notizen in deinem Code zu schreiben, um zu erklären, was passiert. Um dies zu tun, tippe \"#\" am Anfang deiner Zeile. Solche Zeilen werden nicht als Code ausgeführt.\n"
      ],
      "metadata": {
        "id": "G-zkJe8Hn2ii"
      }
    },
    {
      "cell_type": "code",
      "source": [
        "# This line is just a comment and will not be executed\n",
        "print(\"This line will be printed\")"
      ],
      "metadata": {
        "id": "t9zopKoEn478"
      },
      "execution_count": null,
      "outputs": []
    },
    {
      "cell_type": "markdown",
      "source": [
        "Du kannst auch Kommentare verwenden, um ganze Codeblöcke auszukommentieren.\n",
        "Das kann auch beim Debuggen hilfreich sein.\n"
      ],
      "metadata": {
        "id": "--fVBhlcn6CJ"
      }
    },
    {
      "cell_type": "code",
      "source": [
        "#print(\"Line 1\")\n",
        "#print(\"Line 2\")\n",
        "print(\"Line 3\")\n",
        "#print(\"Line 4\")"
      ],
      "metadata": {
        "id": "-z-lw464n7I7"
      },
      "execution_count": null,
      "outputs": []
    },
    {
      "cell_type": "markdown",
      "source": [
        "### Juhu!\n",
        "Du hast die grundlegenden Schritte gemeistert. Lass uns jetzt etwas Interessanteres machen, jetzt wo du dich eingelebt hast.\n"
      ],
      "metadata": {
        "id": "3PTykcJGn960"
      }
    },
    {
      "cell_type": "markdown",
      "source": [
        "## Datenanalyse in Python\n",
        "Der einfachste und häufigste Anwendungsfall für Datenanalysen in Python sind *tabellarische Daten*. Damit meine ich Daten, die in einer *Excel* oder *CSV* Tabelle vorliegen. Diese haben üblicherweise eine Zeile pro Beobachtung und eine Spalte pro Eigenschaft oder Attribut dieser Beobachtung.\n",
        "\n",
        "Beispielsweise könnte eine medizinische Studie alle Probanden auf je einer eigenen Zeile festhalten und deren Körpergröße, Gewicht, Geschlecht, Medikamentenwirkung, etc. auf unterschiedlichen Spalten.\n",
        "\n",
        "Eine Buchhaltungsfirma könnte jede Transaktion auf einer eigenen Zeile festhalten und den Absender, Empfänger sowie Betrag in drei Spalten schreiben.\n",
        "\n",
        "In unserem Beispiel arbeiten wir zunächst mit einem Datensatz von Filmen sowie deren Bewertungen, welchen wir von iMDB bekommen haben. Runterladen kann man diesen von [Kaggle](https://www.kaggle.com/datasets/harshitshankhdhar/imdb-dataset-of-top-1000-movies-and-tv-shows/data). Da hierfür ein Account notwendig ist, habe ich euch den Datensatz ebenfalls zur Verfügung gestellt."
      ],
      "metadata": {
        "id": "OEdzCeW3n_Ws"
      }
    },
    {
      "cell_type": "markdown",
      "source": [
        "## Ein paar Worte zu Pandas\n",
        "Datenanalyse ist in Python so verbreitet, dass es dafür eine Sammlung speziell dafür ausgerichteter Funktionen gibt. Diese Sammlungen nennt man auch *Packages* oder *Libraries*. Davon gibt es in Python sehr viele, alle für einen unterschiedlichen Zweck. Selbst für Datenanalyse gibt es einige verschiedene. Wir nutzen in diesem Einsteigerkurs das verbreitetste dieser Pakete namens *Pandas*.\n",
        "\n",
        "Ein *Package* muss immer erst importiert werden bevor wir die darin enthaltenen Funktionen verwenden können. Das machen wir gleich zu Beginn unseres Codes und vergeben gleich einen Alias damit wir später nicht immer `pandas` ausschreiben müssen, sondern einfach die übliche Abkürzung `pd` verwenden können."
      ],
      "metadata": {
        "id": "v3TivLQOqYbJ"
      }
    },
    {
      "cell_type": "code",
      "source": [
        "import pandas as pd"
      ],
      "metadata": {
        "id": "6CdJkSIIq65B"
      },
      "execution_count": null,
      "outputs": []
    },
    {
      "cell_type": "markdown",
      "source": [
        "### Einlesen von Daten\n",
        "Einlesen von Daten ist sehr einfach. Man nutzt einfach die entsprechende Funktion `pd.read_excel(...)` oder `pd.read_csv(...)` und gibt den Pfad der Datei an, die man einlesen möchte. Schon hat man die Tabelle als Python Objekt geladen. Tabellen, welche so mit `pandas` eingelesen werden, nennt man *pandas Dataframes* und kürzt die Variablen oft mit `df` für *dataframe* ab."
      ],
      "metadata": {
        "id": "s4MeXAd_qPEc"
      }
    },
    {
      "cell_type": "markdown",
      "source": [
        "Sobald du die Zelle unten ausführst, erscheint eine Übersicht der ersten und letzten Einträge des Dataframes."
      ],
      "metadata": {
        "id": "X-slIaUSsgYC"
      }
    },
    {
      "cell_type": "code",
      "source": [
        "# Achte darauf, dass die Datei im gleichen Verzeichnis liegt wie dieses Skript\n",
        "# Eventuell musst du die Datei erst hochladen indem du sie in den Bereich links im Browser ziehst\n",
        "# Passe den Dateipfad notfalls an (z.B. \"C:/Users/mein Name/Pythonkurs/Datenanalyse/imdb_top_1000.csv\")\n",
        "pd.read_csv(\"imdb_top_1000.csv\")\n"
      ],
      "metadata": {
        "id": "RgMZAWogq31y"
      },
      "execution_count": null,
      "outputs": []
    },
    {
      "cell_type": "markdown",
      "source": [
        "Wie sonst auch müssen wir den Wert aber einer *Variable* zuweisen, damit wir das Dataframe später im Code wiederverwenden können.\n",
        "\n",
        "**Lade die Tabelle in der Code-Zelle unten erneut. Diesmal weisen wir es der Variable `df` zu.**"
      ],
      "metadata": {
        "id": "1vV8jmNKvm9z"
      }
    },
    {
      "cell_type": "code",
      "source": [
        "df = # Vervollständige den Code hier"
      ],
      "metadata": {
        "id": "3Eqec6djn-Zi"
      },
      "execution_count": null,
      "outputs": []
    },
    {
      "cell_type": "markdown",
      "source": [
        "Wenn alles geklappt hat, kannst du das Dataframe nun erneut aufrufen, indem du `df` ausführst."
      ],
      "metadata": {
        "id": "hUotIZgSv-g3"
      }
    },
    {
      "cell_type": "code",
      "source": [
        "df"
      ],
      "metadata": {
        "id": "r_K8t4DOwEbb"
      },
      "execution_count": null,
      "outputs": []
    },
    {
      "cell_type": "markdown",
      "source": [
        "## Erste Pandas Operationen: Head, Tail, Shape & Columns\n",
        "Ein `pandas.DataFrame` hat viele eingebaute *Funktionen* und *Attribute*, die wir uns zu nutze machen können.\n",
        "\n",
        "Wenn wir nur die ersten oder letzten Zeilen des Dataframes sehen wollen, nutzen wir `head()` oder `tail()`. Das ist oft hilfreich, wenn man ein Gefühl für einen neuen Datensatz erhalten möchte."
      ],
      "metadata": {
        "id": "83POtxlzwK1b"
      }
    },
    {
      "cell_type": "code",
      "source": [
        "df.head()"
      ],
      "metadata": {
        "id": "x-imifQcwcIc"
      },
      "execution_count": null,
      "outputs": []
    },
    {
      "cell_type": "markdown",
      "source": [
        "Standardmäßig zeigt `head()` die ersten 5 Zeilen an. Wir können aber auch eine Zahl als *Argument* mitgeben. Damit können wir bestimmen wie viele der ersten Zeilen wir ansehen wollen.\n",
        "\n",
        "**Lass dir die ersten 3 Zeilen anzeigen**"
      ],
      "metadata": {
        "id": "PPZ-gUykwyRV"
      }
    },
    {
      "cell_type": "code",
      "source": [],
      "metadata": {
        "id": "OgerpCH7xUix"
      },
      "execution_count": null,
      "outputs": []
    },
    {
      "cell_type": "markdown",
      "source": [
        "**Finde nun heraus, wer die Stars im sechst-letzten Film in dem Datensatz sind**\n",
        "\n",
        "Hinweis: Man kennt die Jungs eher für ihr musikalisches Talent 😊🎵"
      ],
      "metadata": {
        "id": "gT_Mc-euxW1D"
      }
    },
    {
      "cell_type": "code",
      "source": [],
      "metadata": {
        "id": "-pEqLYEny4u1"
      },
      "execution_count": null,
      "outputs": []
    },
    {
      "cell_type": "markdown",
      "source": [
        "Oft wollen wir zu Beginn auch wissen, wie groß der Datensatz ist. Das können wir mit `.shape` machen. Bedenke, dass `.shape` ein *Attribut* des Dataframes ist und keine Methode. Daher nutzen wir hier im Gegensatz zu `head()` keine Klammern."
      ],
      "metadata": {
        "id": "EDlLmXcXyHhV"
      }
    },
    {
      "cell_type": "code",
      "source": [
        "df.shape"
      ],
      "metadata": {
        "id": "M-XrL21TxVGp"
      },
      "execution_count": null,
      "outputs": []
    },
    {
      "cell_type": "markdown",
      "source": [
        "**Falls du nicht weißt wie du die Zahlen oben interpretieren sollst, Frage deinen Nachbarn oder mich um Hilfe 😊**"
      ],
      "metadata": {
        "id": "yGrKrjz6yohU"
      }
    },
    {
      "cell_type": "markdown",
      "source": [
        "Die Spaltenbezeichnung erhalten wir durch `.columns` (auch hier ohne Klammern)."
      ],
      "metadata": {
        "id": "mie4cZwQy0Hf"
      }
    },
    {
      "cell_type": "code",
      "source": [
        "df.columns"
      ],
      "metadata": {
        "id": "PNEtMcTUykLW"
      },
      "execution_count": null,
      "outputs": []
    },
    {
      "cell_type": "markdown",
      "source": [
        "## Filtern\n",
        "Einen Datensatz zu filtern ist mit das gängiste was man mit tabellarischen Daten macht. Leider gibt es dafür mehrere Methoden, was es für Anfänger etwas verwirrend machen kann. Wir versuchen uns Schritt für Schritt an die verschiedenen Szenarien ranzutasten."
      ],
      "metadata": {
        "id": "G6pxIKSFzKYw"
      }
    },
    {
      "cell_type": "markdown",
      "source": [
        "### Auf Spalten filtern\n",
        "Das ist der einfache Fall. Vielleicht wollen wir nur eine oder ein paar Spalten des Datensatzen ansehen. Dazu nutzen wir am besten den Spaltennamen (siehe oben)"
      ],
      "metadata": {
        "id": "ZqWCpil6zeQ-"
      }
    },
    {
      "cell_type": "code",
      "source": [
        "df.Series_Title"
      ],
      "metadata": {
        "id": "INstOSTGzdp7"
      },
      "execution_count": null,
      "outputs": []
    },
    {
      "cell_type": "markdown",
      "source": [
        "In `pandas` gibt es zwei gängige Möglichkeiten Spalten zu filtern. Entweder so wie oben, mit `.Spaltenname` oder wie unten:"
      ],
      "metadata": {
        "id": "0uv-Azg4z8fq"
      }
    },
    {
      "cell_type": "code",
      "source": [
        "df[\"Series_Title\"]"
      ],
      "metadata": {
        "id": "ADotu39FzAJ1"
      },
      "execution_count": null,
      "outputs": []
    },
    {
      "cell_type": "markdown",
      "source": [
        "Diese Methoden sind im Ergebnis äquivalent und persönliche Präferenz. Zwei wichtige Unterschiede gibt es:\n",
        "- Wenn eine Spalte ein Leerzeichen hat, dann muss man die zweite Methode verwenden (oder die Spalte umbenennen)\n",
        "- Wenn man mehrere Spalten auswählen möchte, muss man die zweite Methode verwenden\n",
        "\n",
        "Da die erste Methode (`.Spaltenname`) etwas schneller geschrieben ist, versuche ich wo möglich diese zu nutzen, in Onlinetutorials werdet ihr aber beides verbreitet sehen."
      ],
      "metadata": {
        "id": "OniJC-pY0L8B"
      }
    },
    {
      "cell_type": "markdown",
      "source": [
        "Möchten wir mehrere Spalten auswählen, dann machen wir das so:"
      ],
      "metadata": {
        "id": "gdKy1GHY01fn"
      }
    },
    {
      "cell_type": "code",
      "source": [
        "df[[\"Series_Title\", \"Released_Year\"]]"
      ],
      "metadata": {
        "id": "7xWGZP9k0mbo"
      },
      "execution_count": null,
      "outputs": []
    },
    {
      "cell_type": "markdown",
      "source": [
        "**Versuche selbst das Dataframe auf verschiedene einzelne Spalten sowie auf mehrere Spalten zu filtern, um dich mit der Syntax vertraut zu machen**"
      ],
      "metadata": {
        "id": "5p5wrPgo1GWt"
      }
    },
    {
      "cell_type": "code",
      "source": [],
      "metadata": {
        "id": "mcwtYvOF0-9A"
      },
      "execution_count": null,
      "outputs": []
    },
    {
      "cell_type": "markdown",
      "source": [
        "### Filtern auf Zeilen\n",
        "Filtern auf Zeilen ist etwas komplierter. Lass uns mit dem einfachen case anfangen: Wir wollen schlicht auf eine bestimmte Zeilen-Spanne filtern."
      ],
      "metadata": {
        "id": "4rUfzWD437Fs"
      }
    },
    {
      "cell_type": "code",
      "source": [
        "# Gibt uns die erste Zeile im Dataframe aus\n",
        "df.iloc[0]"
      ],
      "metadata": {
        "id": "lki0f6ee38wX"
      },
      "execution_count": null,
      "outputs": []
    },
    {
      "cell_type": "code",
      "source": [
        "# Gibt uns die Zeilen Nummer 10 bis 15 aus.\n",
        "df.iloc[10:15]"
      ],
      "metadata": {
        "id": "qa_ML0-q4XCu"
      },
      "execution_count": null,
      "outputs": []
    },
    {
      "cell_type": "markdown",
      "source": [
        "**Probiere selbst aus, auf verschiedene Zeilen zu filtern**"
      ],
      "metadata": {
        "id": "ydT2ejaU45T5"
      }
    },
    {
      "cell_type": "code",
      "source": [],
      "metadata": {
        "id": "KP1SXrQL4cG2"
      },
      "execution_count": null,
      "outputs": []
    },
    {
      "cell_type": "markdown",
      "source": [
        "### Filtern mit Bedingungen"
      ],
      "metadata": {
        "id": "X5ocyg5v-qBX"
      }
    },
    {
      "cell_type": "markdown",
      "source": [
        "Spannender wird es, wenn wir beim Filtern auf Zeilen, bestimmte *Bedingungen* berücksichtigen wollen. Zum Beispiel wollen wir nur Filme mit einem bestimmten Meta-Score anzeigen. Hier ist die Syntax ein bisschen ähnlich wie bei *If-Statements* die ihr bereits in einem anderen Tutorial kennengelernt habt: `df[MEINE_BEDINGUNG]`"
      ],
      "metadata": {
        "id": "dnSk0euw4-db"
      }
    },
    {
      "cell_type": "code",
      "source": [
        "df[df.Meta_score > 95]"
      ],
      "metadata": {
        "id": "vsjj5_xG-0aT"
      },
      "execution_count": null,
      "outputs": []
    },
    {
      "cell_type": "markdown",
      "source": [
        "Alternativ können wir nach einem Film mit einer bestimmten Jugendfreigabe suchen. Die Freigaben hier nochmal von ChatGPT erklärt, falls es dich interessiert:\n",
        "\n",
        "- **nan**: Not a Number, wahrscheinlich fehlende oder undefinierte Daten.\n",
        "- **Unrated**: Nicht zur Bewertung eingereicht oder nicht offiziell bewertet.\n",
        "- **U**: Universal, geeignet für alle Altersgruppen.\n",
        "- **G**: Allgemeines Publikum, geeignet für alle Altersgruppen.\n",
        "- **Passed**: Genehmigt von der Production Code Administration (historisch).\n",
        "- **Approved**: Genehmigt von der Production Code Administration (historisch).\n",
        "- **GP**: Allgemeines Publikum, elterliche Begleitung empfohlen (historisch).\n",
        "- **PG**: Elterliche Begleitung, einige Inhalte möglicherweise ungeeignet für Kinder.\n",
        "- **TV-PG**: Elterliche Begleitung, einige Inhalte möglicherweise ungeeignet für Kinder.\n",
        "- **TV-14**: Eltern dringend gewarnt, ungeeignet für Kinder unter 14 Jahren.\n",
        "- **PG-13**: Eltern dringend gewarnt, einige Inhalte möglicherweise ungeeignet für Kinder unter 13 Jahren.\n",
        "- **UA**: Universal Adult, geeignet für Kinder über 12 Jahre mit elterlicher Begleitung.\n",
        "- **U/A**: Universal Adult, geeignet für Kinder über 12 Jahre mit elterlicher Begleitung.\n",
        "- **16**: Geeignet für Zuschauer ab 16 Jahren.\n",
        "- **R**: Beschränkt, Zuschauer unter 17 Jahren benötigen die Begleitung eines Elternteils oder eines erwachsenen Vormunds.\n",
        "- **TV-MA**: Reifes Publikum, ungeeignet für Kinder unter 17 Jahren.\n",
        "- **A**: Nur für Erwachsene.\n",
        "\n"
      ],
      "metadata": {
        "id": "B_TmIUGH_f9R"
      }
    },
    {
      "cell_type": "code",
      "source": [
        "df[df.Certificate == \"U\"].head(3)"
      ],
      "metadata": {
        "id": "Tg8b6GlC_Mej"
      },
      "execution_count": null,
      "outputs": []
    },
    {
      "cell_type": "markdown",
      "source": [
        "Oder wir wollen nur Filme aus meinem Geburtsjahr sehen."
      ],
      "metadata": {
        "id": "OGUeQhK0-vuw"
      }
    },
    {
      "cell_type": "code",
      "source": [
        "# Die Syntax meines Filters ist korrekt, allerdings muss ich berücksichten, dass das Jahr in der Tabelle als String gespeichert ist.\n",
        "# Daher werden bei diesem Filter keine Filme angezeigt.\n",
        "df[df.Released_Year == 1996]"
      ],
      "metadata": {
        "id": "2hNCvJTS5SPz"
      },
      "execution_count": null,
      "outputs": []
    },
    {
      "cell_type": "markdown",
      "source": [
        "**Versuche den Filter so anzupassen, dass Filme aus dem Jahr 1996 angezeigt werden. Wie viele Filme gibt es in diesem Jahr?**"
      ],
      "metadata": {
        "id": "oA-JckRk6H43"
      }
    },
    {
      "cell_type": "code",
      "source": [],
      "metadata": {
        "id": "igomgFeR6cQA"
      },
      "execution_count": null,
      "outputs": []
    },
    {
      "cell_type": "markdown",
      "source": [
        "### Einschub: Datentypen von Spalten ändern\n",
        "Das Erscheinungsjahr eines Filmes sollte eine Zahl sein und kein String, damit wir auch Vergleiche anstellen können wie `>` oder `<`. Daher wandeln wir die Spalte für zukünftige Arbeiten am Dataframe in einen *Integer* (=Ganzzahl) um.\n",
        "\n",
        "Es ist nicht schlimm, wenn ihr nicht jeden Teil der nächsten Schritte versteht."
      ],
      "metadata": {
        "id": "7ca3F5fP6e5C"
      }
    },
    {
      "cell_type": "code",
      "source": [
        "# Offenbar gibt es mindestens einen Eintrag \"PG\", welcher nicht in eine Zahl umgewandelt werden kann\n",
        "# Das ist ein Fehler im Datensatz (sowas kommt in der echten Welt sehr oft vor)\n",
        "df[\"Released_Year\"].astype(int)"
      ],
      "metadata": {
        "id": "tlC9egp36emo"
      },
      "execution_count": null,
      "outputs": []
    },
    {
      "cell_type": "code",
      "source": [
        "# In der Tat ist es nur ein einzelner Fehler, den können wir schnell beheben.\n",
        "df[df.Released_Year == \"PG\"]"
      ],
      "metadata": {
        "id": "j-c4TqxN6ekD"
      },
      "execution_count": null,
      "outputs": []
    },
    {
      "cell_type": "code",
      "source": [
        "# Nach einer kurzen Internetrecherche können wir das Jahr auf den richtigen (string) Wert setzen.\n",
        "df.loc[966, \"Released_Year\"] = \"1995\""
      ],
      "metadata": {
        "id": "c9RHU1M47tmF"
      },
      "execution_count": null,
      "outputs": []
    },
    {
      "cell_type": "code",
      "source": [
        "# Jetzt können wir die Spalte zu einem Integer machen\n",
        "# Bedenkt, dass ich dabei die Variable neu zugewiesen habe\n",
        "df[\"Released_Year\"] = df.Released_Year.astype(int)"
      ],
      "metadata": {
        "id": "hQXlcxVn78cd"
      },
      "execution_count": null,
      "outputs": []
    },
    {
      "cell_type": "markdown",
      "source": [
        "### Zeilen mit mehreren Bedingungen filtern\n",
        "Oft wollen wir mehrere Bedingungen gleichzeitig anwenden. Dabei ist es wichtig zu unterscheiden ob wir möchten, dass Bedingung A **UND** Bedingung B gilt oder ob wir möchten, dass Bedingung A **ODER** Bedingung B gilt.\n",
        "\n",
        "In den folgenden Beispielen sehen wir die Konjunktionen **UND**, **ODER** und **NICHT**. Diese drei Konjunktionen reichen aus, um beliebig komplexe Filter zu bauen."
      ],
      "metadata": {
        "id": "Udor3TmO-KGn"
      }
    },
    {
      "cell_type": "code",
      "source": [
        "df.columns"
      ],
      "metadata": {
        "id": "WImiwwHOg-yF"
      },
      "execution_count": null,
      "outputs": []
    },
    {
      "cell_type": "code",
      "source": [
        "# Wir lassen uns alle Filme anzeigen die zwischen 2012 (exklusive) und 2015 (inklusive) erschienen sind\n",
        "# Wir nutzen runde Klammern für jede Teilbedingung und verknüpfen Teilbedigungen durch '&'\n",
        "df[(df.Released_Year > 2012) & (df.Released_Year <= 2015)]"
      ],
      "metadata": {
        "id": "D9qw-OyL-bG9"
      },
      "execution_count": null,
      "outputs": []
    },
    {
      "cell_type": "markdown",
      "source": [
        "Vielleicht wollen wir nun einen Film finden, der für Kinder geeignet ist. Wir möchten also einen Film, dessen Certificate U *oder* G ist."
      ],
      "metadata": {
        "id": "8WFfBwKLh4T5"
      }
    },
    {
      "cell_type": "code",
      "source": [
        "# Die vertikale Linie für die *ODER* Konjuktion findest du vermutlich links unten auf der Tastatur\n",
        "# neben deiner Y-Taste. Halte dafür alt-gr gedrückt (rechts von der Leertaste)\n",
        "df[(df.Certificate == \"U\") | (df.Certificate == \"G\")]"
      ],
      "metadata": {
        "id": "CGIoEkj8hMgT"
      },
      "execution_count": null,
      "outputs": []
    },
    {
      "cell_type": "markdown",
      "source": [
        "Zu guter Letzt zeige ich euch die **NICHT** Konjunktion (=`~`) zusammen mit einem etwas komplexeren Filter.\n",
        "\n",
        "**Versuche nachzuvollziehen welche Bedingung ich hier definiert habe**"
      ],
      "metadata": {
        "id": "whj5idKZog9i"
      }
    },
    {
      "cell_type": "code",
      "source": [
        "df[~(df.Genre.str.contains(\"Drama\")) & (df.Meta_score > 85) & (df.Released_Year >= 2015)]"
      ],
      "metadata": {
        "id": "FC0pflnQogMb"
      },
      "execution_count": null,
      "outputs": []
    },
    {
      "cell_type": "markdown",
      "source": [
        "Das ist eine sehr wichtige Lektion.\n",
        "\n",
        "**Probiere selbst verschiedene Filter aus. Setze dir dabei eine bestimmte Fragestellung zum Ziel und versuche dann den passenden Filter zu bauen.**\n",
        "\n",
        "**Fang beispielsweise mit folgenden Fragen an:**\n",
        "\n",
        "- **Welche Filme aus den 90ern haben ein IMDB Rating über 8.0 und sind keine Sci-Fi Filme.**\n",
        "- **Ich suche einen Actionfilm mit IMDB Rating über 8.0 oder Meta_score über 85**\n",
        "\n",
        "Hinweis: Manche Spalten sind noch falsch formatiert. Falls du also mit `Runtime` oder `Gross` (=Ticketerlös) arbeiten möchtest, müssen wir diese Spalten erst etwas umformen. Das ist ein Bonuskapitel, welches ich unten vorbereitet habe."
      ],
      "metadata": {
        "id": "AZMlbKMSqHC2"
      }
    },
    {
      "cell_type": "code",
      "source": [
        "# Probiere hier verschiedene Filter aus"
      ],
      "metadata": {
        "id": "ntBhYPXYqFcf"
      },
      "execution_count": null,
      "outputs": []
    },
    {
      "cell_type": "code",
      "source": [
        "# Probiere hier verschiedene Filter aus"
      ],
      "metadata": {
        "id": "jj269dXjqGH_"
      },
      "execution_count": null,
      "outputs": []
    },
    {
      "cell_type": "code",
      "source": [
        "# Probiere hier verschiedene Filter aus"
      ],
      "metadata": {
        "id": "7RFLW8mnqGZn"
      },
      "execution_count": null,
      "outputs": []
    },
    {
      "cell_type": "markdown",
      "source": [
        "## Spalten umwandeln: Datentypen anpassen Daten säubern"
      ],
      "metadata": {
        "id": "AyediUBFtM9k"
      }
    },
    {
      "cell_type": "markdown",
      "source": [
        "Erstmal können wir die Datentypen der Spalten anzeigen lassen. Dafür nutzen wir `.dtypes`.\n",
        "\n",
        "Hinweis: `object` bedeutet in diesem Fall string, `int64` ist ein integer, `float64` ist ein float, also eine Kommazahl."
      ],
      "metadata": {
        "id": "8EBBV15Ffclm"
      }
    },
    {
      "cell_type": "code",
      "source": [
        "df.dtypes"
      ],
      "metadata": {
        "id": "WAGQZol9tQuH"
      },
      "execution_count": null,
      "outputs": []
    },
    {
      "cell_type": "markdown",
      "source": [
        "Idealerweise, wollen wir die `Runtime` als `int` codieren. Dafür müssen wir aber zunächst die Zahl von den Minuten trennen. Es gibt viele Möglichkeiten das zu tun, eine davon ist einfach \" min\" durch einen leeren String zu ersetzen."
      ],
      "metadata": {
        "id": "Nxcs6gUFgCxX"
      }
    },
    {
      "cell_type": "code",
      "source": [
        "df.head(2)"
      ],
      "metadata": {
        "id": "c0SCj6Jlf4-b"
      },
      "execution_count": null,
      "outputs": []
    },
    {
      "cell_type": "code",
      "source": [
        "# Wir machen gleich zwei Operationen in einer Zeile (erst replace und dann astype(int))\n",
        "# Das Ergebnis weisen wir dann der Spalte \"Runtime\" zu und überschreiben diese mit dem neuen Ergebnis\n",
        "df[\"Runtime\"] = df.Runtime.str.replace(\" min\", \"\").astype(int)"
      ],
      "metadata": {
        "id": "AM3DB85XgNjK"
      },
      "execution_count": null,
      "outputs": []
    },
    {
      "cell_type": "markdown",
      "source": [
        "Jetzt sehen wir, dass bei `Runtime` lediglich die Zahl übrig bleibt."
      ],
      "metadata": {
        "id": "9zYDq0nJhESD"
      }
    },
    {
      "cell_type": "code",
      "source": [
        "df.head(3)"
      ],
      "metadata": {
        "id": "UYGEXxiGgi-K"
      },
      "execution_count": null,
      "outputs": []
    },
    {
      "cell_type": "markdown",
      "source": [
        "**Prüfe, dass auch der Datentyp nun ein integer ist**"
      ],
      "metadata": {
        "id": "znBoYpJGjO4B"
      }
    },
    {
      "cell_type": "code",
      "source": [],
      "metadata": {
        "id": "__8FrDcThPKY"
      },
      "execution_count": null,
      "outputs": []
    },
    {
      "cell_type": "markdown",
      "source": [
        "**Versuche nun, die Spalte `Gross` (also den Ticketerlös des Films) zu einem `float` zu transformieren.**\n",
        "\n",
        "Hinweis: Du musst eine Lösung für die Kommas in den Zahlen finden."
      ],
      "metadata": {
        "id": "-blsRYFrhQIK"
      }
    },
    {
      "cell_type": "markdown",
      "source": [
        "## Spielwiese\n",
        "Gut gemacht! 🥳🎉\n",
        "\n",
        "Du hast alles gelernt, was ich in dieser Lektion vermitteln wollte. Jetzt ist es wichtig, das Gelernte zu anzuwenden und zu üben.\n",
        "\n",
        "**Versuche die Inhalte dieser Lektion nach belieben anzuwenden.**\n",
        "\n",
        "**Bonusaufgabe: Erstelle eine neue Spalte `Rating_difference`, welche den Unterschied zwischen dem `IMDB_Rating` und dem `Meta_score` festhält. Wichtig: IMDB Rating geht von 0-10, Meta_score aber von 0-100. Bringe die zwei Werte also zunächst auf die gleiche Skala**\n",
        "\n",
        "Hinweis: Das ist eine Transferaufgabe, weil wir bislang immer nur bestehende Spalten überschrieben haben. Falls du feststeckst, suche Hilfe im Internet oder von ChatGPT / Bing Copilot / Google Gemini."
      ],
      "metadata": {
        "id": "y8PxlofCh6a4"
      }
    },
    {
      "cell_type": "code",
      "source": [],
      "metadata": {
        "id": "KzU8bHxljEHD"
      },
      "execution_count": null,
      "outputs": []
    },
    {
      "cell_type": "code",
      "source": [],
      "metadata": {
        "id": "APVB3n2FjD9T"
      },
      "execution_count": null,
      "outputs": []
    },
    {
      "cell_type": "code",
      "source": [],
      "metadata": {
        "id": "ktumaBhHjDfz"
      },
      "execution_count": null,
      "outputs": []
    },
    {
      "cell_type": "code",
      "source": [],
      "metadata": {
        "id": "h-XvkWX8hPlY"
      },
      "execution_count": null,
      "outputs": []
    }
  ]
}