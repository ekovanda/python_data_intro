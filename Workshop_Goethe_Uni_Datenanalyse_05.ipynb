{
 "cells": [
  {
   "cell_type": "markdown",
   "metadata": {
    "id": "eKpWidC5Tj4L"
   },
   "source": [
    "# Bonus: Programmieren mit KI"
   ]
  },
  {
   "cell_type": "markdown",
   "metadata": {
    "id": "noGMqNvzTrWh"
   },
   "source": [
    "## Teil 1: Verwendung von KI Assistenten bei Programmieren\n",
    "\n",
    "### Vorwort\n",
    "KI kann mittlerweile sehr gut eigenständig programmieren. Nutzt diese Technologie also gerne, um euren eigenen Code zu verbessern, fremden Code zu erläutern, oder wenn es schnell gehen soll auch, um ganze Programme schreiben zu lassen.\n",
    "\n",
    "Passt auf, dass ihr euer Ziel im Blick behaltet: Mit einem KI-Coding-Assistenten passiert es schnell, dass man aufhört selbst über Code nachzudenken und lediglich die Vorschläge akzeptiert. Dabei kommt man schnell voran, lernt aber wenig.\n",
    "\n",
    "### Praxistipps\n",
    "#### 1. Nutzt ChatGPT, Gemini, Claude und Co.\n",
    "Gebt eure Fragen direkt bei ChatGPT, Gemini, Claude oder anderen KI Assistenten ein. Achtet dabei auf die Wahl des Modells: Je neuer das Modell, desto besser das Ergebnis üblicherweise. Manchmal gibt es auch die Möglichkeit \"Reasoning\" oder \"Thinking\" Modelle auszuwählen. Diese liefern für komplexe Fragen meist bessere Ergebnisse, für einfache Fragen reichen aber die \"normalen\" Modelle, die noch dazu deutlich schneller sind.\n",
    "\n",
    "Unterschiede zwischen Anbietern sind meistens nicht so erheblich.\n",
    "\n",
    "**Tipp**: Bei einigen Assistenten gibt es die Möglichkeit einen \"System Prompt\" anzugeben. Das ist eine Anweisung, die über alle Chats hinweg gilt und genutzt werden kann, um den Assistenten beispielsweise ausführlicher oder knapper Antworten zu lassen.\n",
    "\n",
    "#### 2. Nutzt Coding Assistenten direkt in eurer Programmierumgebung\n",
    "Kopieren und Erklären kostet Zeit. Schneller und einfacher geht es, wenn man nicht den Code zum Assistenten bringt sondern den Assistenten zum Code. Dafür bietet Google in Colab direkt die Möglichkeit KI Hilfe anzuschalten. Schaltet dafür bei \"Tools\" > \"Einstellungen\" > \"KI Unterstützung\" die entsprechenden Optionen frei.\n",
    "\n",
    "Für IDEs wie VS Code gibt es noch umfangreichere Unterstützung, beispielsweise durch GitHub Copilot"
   ]
  },
  {
   "cell_type": "markdown",
   "metadata": {
    "id": "k5qCDTx1WYLy"
   },
   "source": [
    "## Teil 2: Verwenden von KI um KI-gestützte Python Programme zu entwickeln\n",
    "\n",
    "Um KI in Python Programme einzubetten, brauchen wir einen sogenannten \"API-KEY\". Das ist der Schlüssel, den Anbieter erwarten, um einem Nutzer ihre Services zur Verwendung in (Python) Programmen freizugeben.\n",
    "\n",
    "Behandelt diesen Schlüssel wie ein Passwort, denn jeder, der euren Schlüssel kennt, kann sich \"einloggen\" und mit eurer \"Identität\" den jeweiligen Service konsumieren.  \n",
    "\n",
    "Falls du schon eine Subscription zu einem KI Anbieter hast, kannst du gerne diesen nutzen. Hier verwenden wir den kostenlosen Zugriff auf Google Gemini.\n",
    "\n",
    "Um einen Gemini API Key zu erstellen, kannst du auf [diesen Link](https://aistudio.google.com/app/api-keys) gehen. Ggf. brauchst du ersten einen @gmail account und musst ggf. erst ein neues Projekt anlegen. Achte darauf, dass du den Free Tier nutzt, da bei der Verwendung von KI ggf. Kosten anfallen können."
   ]
  },
  {
   "cell_type": "markdown",
   "metadata": {
    "id": "dkewYWQrahIE"
   },
   "source": [
    "Sobald du einen API Key erstellt hast, kannst du links auf das Schlüssel Icon klicken und den Key dort mit einem Namen hinterlegen. Hast du das getan, dann kannst du den Code unten ausführen, um den Schlüssel zu laden und eine KI Antwort zu erhalten:"
   ]
  },
  {
   "cell_type": "code",
   "execution_count": 3,
   "metadata": {
    "executionInfo": {
     "elapsed": 333,
     "status": "ok",
     "timestamp": 1760876110546,
     "user": {
      "displayName": "Elliot Kovanda",
      "userId": "00350291940365927435"
     },
     "user_tz": -120
    },
    "id": "MQBV4VMXZHc_"
   },
   "outputs": [],
   "source": [
    "from google.colab import userdata\n",
    "\n",
    "gemini_api_key = userdata.get('GEMINI_API_KEY')"
   ]
  },
  {
   "cell_type": "code",
   "execution_count": 4,
   "metadata": {
    "colab": {
     "base_uri": "https://localhost:8080/"
    },
    "executionInfo": {
     "elapsed": 6524,
     "status": "ok",
     "timestamp": 1760876118455,
     "user": {
      "displayName": "Elliot Kovanda",
      "userId": "00350291940365927435"
     },
     "user_tz": -120
    },
    "id": "0Uz6AE0OTgTh",
    "outputId": "98b5d69d-d384-42ee-edcb-afb52db272a4"
   },
   "outputs": [
    {
     "name": "stdout",
     "output_type": "stream",
     "text": [
      "It learns patterns from data to make decisions or predictions.\n"
     ]
    }
   ],
   "source": [
    "from google import genai\n",
    "\n",
    "client = genai.Client(api_key=gemini_api_key)\n",
    "\n",
    "response = client.models.generate_content(\n",
    "    model=\"gemini-2.5-flash\",\n",
    "    contents=\"Explain how AI works in a few words\",\n",
    ")\n",
    "\n",
    "print(response.text)"
   ]
  },
  {
   "cell_type": "markdown",
   "metadata": {
    "id": "ZLSmZDmla0O1"
   },
   "source": [
    "# Aufgabe\n",
    "Überlege dir, was du gerne mit KI machen würdest und nutze einen Chatbot, um diese Idee umzusetzen."
   ]
  },
  {
   "cell_type": "code",
   "execution_count": null,
   "metadata": {
    "id": "db16IloEYoHS"
   },
   "outputs": [],
   "source": []
  }
 ],
 "metadata": {
  "colab": {
   "authorship_tag": "ABX9TyP9ouY8TrwBr7tHFAnIynWr",
   "provenance": []
  },
  "kernelspec": {
   "display_name": "Python 3",
   "name": "python3"
  },
  "language_info": {
   "name": "python"
  }
 },
 "nbformat": 4,
 "nbformat_minor": 0
}
